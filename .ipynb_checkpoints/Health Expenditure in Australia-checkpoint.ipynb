{
 "cells": [
  {
   "cell_type": "markdown",
   "id": "26f5668f",
   "metadata": {},
   "source": [
    "## Health Expenditure in Australia\n",
    "##### Analyzed by Hossein Hosseini Giv"
   ]
  },
  {
   "cell_type": "code",
   "execution_count": 3,
   "id": "31686b2a",
   "metadata": {},
   "outputs": [],
   "source": [
    "import numpy as np\n",
    "import pandas as pd\n",
    "import matplotlib.pyplot as plt"
   ]
  },
  {
   "cell_type": "markdown",
   "id": "806752e0",
   "metadata": {},
   "source": [
    "##### First, we import the data from a .csv file into a pandas dataframe."
   ]
  },
  {
   "cell_type": "code",
   "execution_count": 4,
   "id": "654067dd",
   "metadata": {},
   "outputs": [
    {
     "data": {
      "text/plain": [
       "(7100, 6)"
      ]
     },
     "execution_count": 4,
     "metadata": {},
     "output_type": "execute_result"
    }
   ],
   "source": [
    "expenditure_data = pd.read_csv('E:Data/Health Expenditure Australia.csv')\n",
    "expenditure_data.shape"
   ]
  },
  {
   "cell_type": "markdown",
   "id": "c1043cb5",
   "metadata": {},
   "source": [
    "##### Next, we take a look at the first 20 rows of our data frame."
   ]
  },
  {
   "cell_type": "code",
   "execution_count": 5,
   "id": "b2662490",
   "metadata": {},
   "outputs": [
    {
     "data": {
      "text/html": [
       "<div>\n",
       "<style scoped>\n",
       "    .dataframe tbody tr th:only-of-type {\n",
       "        vertical-align: middle;\n",
       "    }\n",
       "\n",
       "    .dataframe tbody tr th {\n",
       "        vertical-align: top;\n",
       "    }\n",
       "\n",
       "    .dataframe thead th {\n",
       "        text-align: right;\n",
       "    }\n",
       "</style>\n",
       "<table border=\"1\" class=\"dataframe\">\n",
       "  <thead>\n",
       "    <tr style=\"text-align: right;\">\n",
       "      <th></th>\n",
       "      <th>financial_year</th>\n",
       "      <th>state</th>\n",
       "      <th>area_of_expenditure</th>\n",
       "      <th>broad_source_of_funding</th>\n",
       "      <th>detailed_source_of_funding</th>\n",
       "      <th>real_expenditure_millions</th>\n",
       "    </tr>\n",
       "  </thead>\n",
       "  <tbody>\n",
       "    <tr>\n",
       "      <th>0</th>\n",
       "      <td>1997-98</td>\n",
       "      <td>NSW</td>\n",
       "      <td>Administration</td>\n",
       "      <td>Government</td>\n",
       "      <td>Australian Government</td>\n",
       "      <td>315.0</td>\n",
       "    </tr>\n",
       "    <tr>\n",
       "      <th>1</th>\n",
       "      <td>1997-98</td>\n",
       "      <td>NSW</td>\n",
       "      <td>Administration</td>\n",
       "      <td>Government</td>\n",
       "      <td>State and local</td>\n",
       "      <td>120.0</td>\n",
       "    </tr>\n",
       "    <tr>\n",
       "      <th>2</th>\n",
       "      <td>1997-98</td>\n",
       "      <td>NSW</td>\n",
       "      <td>Administration</td>\n",
       "      <td>Non-government</td>\n",
       "      <td>Private health insurance funds</td>\n",
       "      <td>314.0</td>\n",
       "    </tr>\n",
       "    <tr>\n",
       "      <th>3</th>\n",
       "      <td>1997-98</td>\n",
       "      <td>NSW</td>\n",
       "      <td>Aids and appliances</td>\n",
       "      <td>Government</td>\n",
       "      <td>Australian Government</td>\n",
       "      <td>65.0</td>\n",
       "    </tr>\n",
       "    <tr>\n",
       "      <th>4</th>\n",
       "      <td>1997-98</td>\n",
       "      <td>NSW</td>\n",
       "      <td>Aids and appliances</td>\n",
       "      <td>Non-government</td>\n",
       "      <td>Individuals</td>\n",
       "      <td>168.0</td>\n",
       "    </tr>\n",
       "    <tr>\n",
       "      <th>5</th>\n",
       "      <td>1997-98</td>\n",
       "      <td>NSW</td>\n",
       "      <td>Aids and appliances</td>\n",
       "      <td>Non-government</td>\n",
       "      <td>Other non-government</td>\n",
       "      <td>18.0</td>\n",
       "    </tr>\n",
       "    <tr>\n",
       "      <th>6</th>\n",
       "      <td>1997-98</td>\n",
       "      <td>NSW</td>\n",
       "      <td>Aids and appliances</td>\n",
       "      <td>Non-government</td>\n",
       "      <td>Private health insurance funds</td>\n",
       "      <td>78.0</td>\n",
       "    </tr>\n",
       "    <tr>\n",
       "      <th>7</th>\n",
       "      <td>1997-98</td>\n",
       "      <td>NSW</td>\n",
       "      <td>All other medications</td>\n",
       "      <td>Government</td>\n",
       "      <td>Australian Government</td>\n",
       "      <td>5.0</td>\n",
       "    </tr>\n",
       "    <tr>\n",
       "      <th>8</th>\n",
       "      <td>1997-98</td>\n",
       "      <td>NSW</td>\n",
       "      <td>All other medications</td>\n",
       "      <td>Non-government</td>\n",
       "      <td>Individuals</td>\n",
       "      <td>559.0</td>\n",
       "    </tr>\n",
       "    <tr>\n",
       "      <th>9</th>\n",
       "      <td>1997-98</td>\n",
       "      <td>NSW</td>\n",
       "      <td>All other medications</td>\n",
       "      <td>Non-government</td>\n",
       "      <td>Other non-government</td>\n",
       "      <td>16.0</td>\n",
       "    </tr>\n",
       "    <tr>\n",
       "      <th>10</th>\n",
       "      <td>1997-98</td>\n",
       "      <td>NSW</td>\n",
       "      <td>All other medications</td>\n",
       "      <td>Non-government</td>\n",
       "      <td>Private health insurance funds</td>\n",
       "      <td>16.0</td>\n",
       "    </tr>\n",
       "    <tr>\n",
       "      <th>11</th>\n",
       "      <td>1997-98</td>\n",
       "      <td>NSW</td>\n",
       "      <td>Benefit-paid pharmaceuticals</td>\n",
       "      <td>Government</td>\n",
       "      <td>Australian Government</td>\n",
       "      <td>1068.0</td>\n",
       "    </tr>\n",
       "    <tr>\n",
       "      <th>12</th>\n",
       "      <td>1997-98</td>\n",
       "      <td>NSW</td>\n",
       "      <td>Benefit-paid pharmaceuticals</td>\n",
       "      <td>Non-government</td>\n",
       "      <td>Individuals</td>\n",
       "      <td>221.0</td>\n",
       "    </tr>\n",
       "    <tr>\n",
       "      <th>13</th>\n",
       "      <td>1997-98</td>\n",
       "      <td>NSW</td>\n",
       "      <td>Capital expenditure</td>\n",
       "      <td>Government</td>\n",
       "      <td>Australian Government</td>\n",
       "      <td>19.0</td>\n",
       "    </tr>\n",
       "    <tr>\n",
       "      <th>14</th>\n",
       "      <td>1997-98</td>\n",
       "      <td>NSW</td>\n",
       "      <td>Capital expenditure</td>\n",
       "      <td>Government</td>\n",
       "      <td>State and local</td>\n",
       "      <td>420.0</td>\n",
       "    </tr>\n",
       "    <tr>\n",
       "      <th>15</th>\n",
       "      <td>1997-98</td>\n",
       "      <td>NSW</td>\n",
       "      <td>Capital expenditure</td>\n",
       "      <td>Non-government</td>\n",
       "      <td>Other non-government</td>\n",
       "      <td>464.0</td>\n",
       "    </tr>\n",
       "    <tr>\n",
       "      <th>16</th>\n",
       "      <td>1997-98</td>\n",
       "      <td>NSW</td>\n",
       "      <td>Community health</td>\n",
       "      <td>Government</td>\n",
       "      <td>Australian Government</td>\n",
       "      <td>225.0</td>\n",
       "    </tr>\n",
       "    <tr>\n",
       "      <th>17</th>\n",
       "      <td>1997-98</td>\n",
       "      <td>NSW</td>\n",
       "      <td>Community health</td>\n",
       "      <td>Government</td>\n",
       "      <td>State and local</td>\n",
       "      <td>504.0</td>\n",
       "    </tr>\n",
       "    <tr>\n",
       "      <th>18</th>\n",
       "      <td>1997-98</td>\n",
       "      <td>NSW</td>\n",
       "      <td>Community health</td>\n",
       "      <td>Non-government</td>\n",
       "      <td>Private health insurance funds</td>\n",
       "      <td>1.0</td>\n",
       "    </tr>\n",
       "    <tr>\n",
       "      <th>19</th>\n",
       "      <td>1997-98</td>\n",
       "      <td>NSW</td>\n",
       "      <td>Dental services</td>\n",
       "      <td>Government</td>\n",
       "      <td>Australian Government</td>\n",
       "      <td>60.0</td>\n",
       "    </tr>\n",
       "  </tbody>\n",
       "</table>\n",
       "</div>"
      ],
      "text/plain": [
       "   financial_year state           area_of_expenditure broad_source_of_funding  \\\n",
       "0         1997-98   NSW                Administration              Government   \n",
       "1         1997-98   NSW                Administration              Government   \n",
       "2         1997-98   NSW                Administration          Non-government   \n",
       "3         1997-98   NSW           Aids and appliances              Government   \n",
       "4         1997-98   NSW           Aids and appliances          Non-government   \n",
       "5         1997-98   NSW           Aids and appliances          Non-government   \n",
       "6         1997-98   NSW           Aids and appliances          Non-government   \n",
       "7         1997-98   NSW         All other medications              Government   \n",
       "8         1997-98   NSW         All other medications          Non-government   \n",
       "9         1997-98   NSW         All other medications          Non-government   \n",
       "10        1997-98   NSW         All other medications          Non-government   \n",
       "11        1997-98   NSW  Benefit-paid pharmaceuticals              Government   \n",
       "12        1997-98   NSW  Benefit-paid pharmaceuticals          Non-government   \n",
       "13        1997-98   NSW           Capital expenditure              Government   \n",
       "14        1997-98   NSW           Capital expenditure              Government   \n",
       "15        1997-98   NSW           Capital expenditure          Non-government   \n",
       "16        1997-98   NSW              Community health              Government   \n",
       "17        1997-98   NSW              Community health              Government   \n",
       "18        1997-98   NSW              Community health          Non-government   \n",
       "19        1997-98   NSW               Dental services              Government   \n",
       "\n",
       "        detailed_source_of_funding  real_expenditure_millions  \n",
       "0            Australian Government                      315.0  \n",
       "1                  State and local                      120.0  \n",
       "2   Private health insurance funds                      314.0  \n",
       "3            Australian Government                       65.0  \n",
       "4                      Individuals                      168.0  \n",
       "5             Other non-government                       18.0  \n",
       "6   Private health insurance funds                       78.0  \n",
       "7            Australian Government                        5.0  \n",
       "8                      Individuals                      559.0  \n",
       "9             Other non-government                       16.0  \n",
       "10  Private health insurance funds                       16.0  \n",
       "11           Australian Government                     1068.0  \n",
       "12                     Individuals                      221.0  \n",
       "13           Australian Government                       19.0  \n",
       "14                 State and local                      420.0  \n",
       "15            Other non-government                      464.0  \n",
       "16           Australian Government                      225.0  \n",
       "17                 State and local                      504.0  \n",
       "18  Private health insurance funds                        1.0  \n",
       "19           Australian Government                       60.0  "
      ]
     },
     "execution_count": 5,
     "metadata": {},
     "output_type": "execute_result"
    }
   ],
   "source": [
    "expenditure_data.head(20)   "
   ]
  },
  {
   "cell_type": "markdown",
   "id": "1803174b",
   "metadata": {},
   "source": [
    "##### To have an idea of the expenditure values, we use describe. "
   ]
  },
  {
   "cell_type": "code",
   "execution_count": 6,
   "id": "8070f172",
   "metadata": {},
   "outputs": [
    {
     "data": {
      "text/html": [
       "<div>\n",
       "<style scoped>\n",
       "    .dataframe tbody tr th:only-of-type {\n",
       "        vertical-align: middle;\n",
       "    }\n",
       "\n",
       "    .dataframe tbody tr th {\n",
       "        vertical-align: top;\n",
       "    }\n",
       "\n",
       "    .dataframe thead th {\n",
       "        text-align: right;\n",
       "    }\n",
       "</style>\n",
       "<table border=\"1\" class=\"dataframe\">\n",
       "  <thead>\n",
       "    <tr style=\"text-align: right;\">\n",
       "      <th></th>\n",
       "      <th>real_expenditure_millions</th>\n",
       "    </tr>\n",
       "  </thead>\n",
       "  <tbody>\n",
       "    <tr>\n",
       "      <th>count</th>\n",
       "      <td>843.000000</td>\n",
       "    </tr>\n",
       "    <tr>\n",
       "      <th>mean</th>\n",
       "      <td>572.201661</td>\n",
       "    </tr>\n",
       "    <tr>\n",
       "      <th>std</th>\n",
       "      <td>1121.293727</td>\n",
       "    </tr>\n",
       "    <tr>\n",
       "      <th>min</th>\n",
       "      <td>-216.000000</td>\n",
       "    </tr>\n",
       "    <tr>\n",
       "      <th>25%</th>\n",
       "      <td>62.000000</td>\n",
       "    </tr>\n",
       "    <tr>\n",
       "      <th>50%</th>\n",
       "      <td>189.000000</td>\n",
       "    </tr>\n",
       "    <tr>\n",
       "      <th>75%</th>\n",
       "      <td>508.000000</td>\n",
       "    </tr>\n",
       "    <tr>\n",
       "      <th>max</th>\n",
       "      <td>6838.000000</td>\n",
       "    </tr>\n",
       "  </tbody>\n",
       "</table>\n",
       "</div>"
      ],
      "text/plain": [
       "       real_expenditure_millions\n",
       "count                 843.000000\n",
       "mean                  572.201661\n",
       "std                  1121.293727\n",
       "min                  -216.000000\n",
       "25%                    62.000000\n",
       "50%                   189.000000\n",
       "75%                   508.000000\n",
       "max                  6838.000000"
      ]
     },
     "execution_count": 6,
     "metadata": {},
     "output_type": "execute_result"
    }
   ],
   "source": [
    "expenditure_data_NSW = expenditure_data[expenditure_data['state'] == 'NSW']\n",
    "expenditure_data_NSW.describe()"
   ]
  },
  {
   "cell_type": "markdown",
   "id": "1a23178e",
   "metadata": {},
   "source": [
    "##### Using groupby, we determine the states and the number of rows associated with each of them. "
   ]
  },
  {
   "cell_type": "code",
   "execution_count": 7,
   "id": "634fc13b",
   "metadata": {},
   "outputs": [
    {
     "data": {
      "text/plain": [
       "state\n",
       "ACT    837\n",
       "NSW    843\n",
       "NT     851\n",
       "QLD    851\n",
       "SA     861\n",
       "TAS    838\n",
       "VIC    833\n",
       "WA     864\n",
       "dtype: int64"
      ]
     },
     "execution_count": 7,
     "metadata": {},
     "output_type": "execute_result"
    }
   ],
   "source": [
    "expenditure_data_states = expenditure_data.groupby('state').size()\n",
    "expenditure_data_states"
   ]
  },
  {
   "cell_type": "markdown",
   "id": "644cb6af",
   "metadata": {},
   "source": [
    "##### We draw a pie chart to visualize the amount of data associated with each state. "
   ]
  },
  {
   "cell_type": "code",
   "execution_count": 10,
   "id": "cab0cc57",
   "metadata": {},
   "outputs": [
    {
     "data": {
      "image/png": "[encoded data removed]",
      "text/plain": [
       "<Figure size 432x288 with 1 Axes>"
      ]
     },
     "metadata": {},
     "output_type": "display_data"
    }
   ],
   "source": [
    "data = expenditure_data_states\n",
    "labels = expenditure_data_states.index\n",
    "p = plt.pie(data, autopct = '%1.2f%%', radius = 1.75)\n",
    "plt.legend(p[0], labels, bbox_to_anchor = (1.15, 0.7))\n",
    "plt.show()"
   ]
  },
  {
   "cell_type": "markdown",
   "id": "4e60fb87",
   "metadata": {},
   "source": [
    "##### Similarly, we use groupby to determine the various areas of expenditure. "
   ]
  },
  {
   "cell_type": "code",
   "execution_count": 11,
   "id": "8c23ea2f",
   "metadata": {},
   "outputs": [
    {
     "data": {
      "text/plain": [
       "area_of_expenditure\n",
       "Administration                  352\n",
       "Aids and appliances             483\n",
       "All other medications           482\n",
       "Benefit-paid pharmaceuticals    240\n",
       "Capital expenditure             360\n",
       "Community health                533\n",
       "Dental services                 599\n",
       "Medical expense tax rebate      240\n",
       "Medical services                480\n",
       "Other health practitioners      483\n",
       "Patient transport services      599\n",
       "Private hospitals               550\n",
       "Public health                   400\n",
       "Public hospitals                600\n",
       "Research                        377\n",
       "dtype: int64"
      ]
     },
     "execution_count": 11,
     "metadata": {},
     "output_type": "execute_result"
    }
   ],
   "source": [
    "expenditure_data_area = expenditure_data.groupby('area_of_expenditure').size()\n",
    "expenditure_data_area"
   ]
  },
  {
   "cell_type": "markdown",
   "id": "65f94fb3",
   "metadata": {},
   "source": [
    "##### Then, we draw a pie chart to visualize the various areas of expediture. "
   ]
  },
  {
   "cell_type": "code",
   "execution_count": 17,
   "id": "2069e1ad",
   "metadata": {},
   "outputs": [
    {
     "data": {
      "image/png": "[encoded data removed]",
      "text/plain": [
       "<Figure size 432x288 with 1 Axes>"
      ]
     },
     "metadata": {},
     "output_type": "display_data"
    }
   ],
   "source": [
    "data = expenditure_data_area\n",
    "labels = expenditure_data_area.index\n",
    "p = plt.pie(data, autopct = '%1.1f%%', radius = 1.75)\n",
    "plt.legend(p[0], labels, bbox_to_anchor = (1.15, 0.7))\n",
    "plt.show()"
   ]
  },
  {
   "cell_type": "markdown",
   "id": "2a3639b6",
   "metadata": {},
   "source": [
    "##### Also, we use groupby to categorize our data based on the various sources of funding."
   ]
  },
  {
   "cell_type": "code",
   "execution_count": 18,
   "id": "a8287856",
   "metadata": {},
   "outputs": [
    {
     "data": {
      "text/plain": [
       "detailed_source_of_funding\n",
       "Australian Government             1800\n",
       "Individuals                       1347\n",
       "Other non-government              1424\n",
       "Private health insurance funds    1192\n",
       "State and local                   1015\n",
       "dtype: int64"
      ]
     },
     "execution_count": 18,
     "metadata": {},
     "output_type": "execute_result"
    }
   ],
   "source": [
    "expenditure_data_sources = expenditure_data.groupby('detailed_source_of_funding').size()\n",
    "expenditure_data_sources"
   ]
  },
  {
   "cell_type": "markdown",
   "id": "0b1878bb",
   "metadata": {},
   "source": [
    "##### We use a pie chart to visualize the data related to the various sources of funding. "
   ]
  },
  {
   "cell_type": "code",
   "execution_count": 19,
   "id": "c12e140d",
   "metadata": {},
   "outputs": [
    {
     "data": {
      "image/png": "[encoded data removed]",
      "text/plain": [
       "<Figure size 432x288 with 1 Axes>"
      ]
     },
     "metadata": {},
     "output_type": "display_data"
    }
   ],
   "source": [
    "data = expenditure_data_sources\n",
    "labels = expenditure_data_sources.index\n",
    "p = plt.pie(data, autopct = '%1.2f%%', radius = 1.75)\n",
    "plt.legend(p[0], labels, bbox_to_anchor = (1.15, 0.7))\n",
    "plt.show()"
   ]
  },
  {
   "cell_type": "markdown",
   "id": "2c81f467",
   "metadata": {},
   "source": [
    "##### We determine the contribution of each broad source of funding. "
   ]
  },
  {
   "cell_type": "code",
   "execution_count": 20,
   "id": "63bbd569",
   "metadata": {},
   "outputs": [
    {
     "data": {
      "text/plain": [
       "broad_source_of_funding\n",
       "Government        2815\n",
       "Non-government    3963\n",
       "dtype: int64"
      ]
     },
     "execution_count": 20,
     "metadata": {},
     "output_type": "execute_result"
    }
   ],
   "source": [
    "expenditure_data_broad_sources = expenditure_data.groupby('broad_source_of_funding').size()\n",
    "expenditure_data_broad_sources"
   ]
  },
  {
   "cell_type": "markdown",
   "id": "e1fff3c7",
   "metadata": {},
   "source": [
    "##### We use a pie chart to visualize the grouping of broad funding sources, which are categorized into two groups: Government and non-government. This also determines the percentage of each. "
   ]
  },
  {
   "cell_type": "code",
   "execution_count": 21,
   "id": "798a58c8",
   "metadata": {},
   "outputs": [
    {
     "data": {
      "image/png": "[encoded data removed]",
      "text/plain": [
       "<Figure size 432x288 with 1 Axes>"
      ]
     },
     "metadata": {},
     "output_type": "display_data"
    }
   ],
   "source": [
    "data = expenditure_data_broad_sources\n",
    "labels = expenditure_data_broad_sources.index\n",
    "p = plt.pie(data, autopct = '%1.2f%%')\n",
    "plt.legend(p[0], labels, bbox_to_anchor = (0.9, 0.9))\n",
    "plt.show()"
   ]
  },
  {
   "cell_type": "code",
   "execution_count": 19,
   "id": "c00834d7",
   "metadata": {},
   "outputs": [
    {
     "data": {
      "text/html": [
       "<div>\n",
       "<style scoped>\n",
       "    .dataframe tbody tr th:only-of-type {\n",
       "        vertical-align: middle;\n",
       "    }\n",
       "\n",
       "    .dataframe tbody tr th {\n",
       "        vertical-align: top;\n",
       "    }\n",
       "\n",
       "    .dataframe thead th {\n",
       "        text-align: right;\n",
       "    }\n",
       "</style>\n",
       "<table border=\"1\" class=\"dataframe\">\n",
       "  <thead>\n",
       "    <tr style=\"text-align: right;\">\n",
       "      <th></th>\n",
       "      <th>financial_year</th>\n",
       "      <th>state</th>\n",
       "      <th>broad_source_of_funding</th>\n",
       "      <th>detailed_source_of_funding</th>\n",
       "      <th>real_expenditure_millions</th>\n",
       "    </tr>\n",
       "  </thead>\n",
       "  <tbody>\n",
       "    <tr>\n",
       "      <th>0</th>\n",
       "      <td>1997-98</td>\n",
       "      <td>NSW</td>\n",
       "      <td>Government</td>\n",
       "      <td>Australian Government</td>\n",
       "      <td>315.0</td>\n",
       "    </tr>\n",
       "    <tr>\n",
       "      <th>1</th>\n",
       "      <td>1997-98</td>\n",
       "      <td>NSW</td>\n",
       "      <td>Government</td>\n",
       "      <td>State and local</td>\n",
       "      <td>120.0</td>\n",
       "    </tr>\n",
       "    <tr>\n",
       "      <th>2</th>\n",
       "      <td>1997-98</td>\n",
       "      <td>NSW</td>\n",
       "      <td>Non-government</td>\n",
       "      <td>Private health insurance funds</td>\n",
       "      <td>314.0</td>\n",
       "    </tr>\n",
       "    <tr>\n",
       "      <th>53</th>\n",
       "      <td>1997-98</td>\n",
       "      <td>VIC</td>\n",
       "      <td>Government</td>\n",
       "      <td>Australian Government</td>\n",
       "      <td>203.0</td>\n",
       "    </tr>\n",
       "    <tr>\n",
       "      <th>54</th>\n",
       "      <td>1997-98</td>\n",
       "      <td>VIC</td>\n",
       "      <td>Government</td>\n",
       "      <td>State and local</td>\n",
       "      <td>33.0</td>\n",
       "    </tr>\n",
       "    <tr>\n",
       "      <th>...</th>\n",
       "      <td>...</td>\n",
       "      <td>...</td>\n",
       "      <td>...</td>\n",
       "      <td>...</td>\n",
       "      <td>...</td>\n",
       "    </tr>\n",
       "    <tr>\n",
       "      <th>6661</th>\n",
       "      <td>2011-12</td>\n",
       "      <td>ACT</td>\n",
       "      <td>Government</td>\n",
       "      <td>State and local</td>\n",
       "      <td>1.0</td>\n",
       "    </tr>\n",
       "    <tr>\n",
       "      <th>6662</th>\n",
       "      <td>2011-12</td>\n",
       "      <td>ACT</td>\n",
       "      <td>Non-government</td>\n",
       "      <td>Private health insurance funds</td>\n",
       "      <td>15.0</td>\n",
       "    </tr>\n",
       "    <tr>\n",
       "      <th>6718</th>\n",
       "      <td>2011-12</td>\n",
       "      <td>NT</td>\n",
       "      <td>Government</td>\n",
       "      <td>Australian Government</td>\n",
       "      <td>7.0</td>\n",
       "    </tr>\n",
       "    <tr>\n",
       "      <th>6719</th>\n",
       "      <td>2011-12</td>\n",
       "      <td>NT</td>\n",
       "      <td>Government</td>\n",
       "      <td>State and local</td>\n",
       "      <td>0.0</td>\n",
       "    </tr>\n",
       "    <tr>\n",
       "      <th>6720</th>\n",
       "      <td>2011-12</td>\n",
       "      <td>NT</td>\n",
       "      <td>Non-government</td>\n",
       "      <td>Private health insurance funds</td>\n",
       "      <td>5.0</td>\n",
       "    </tr>\n",
       "  </tbody>\n",
       "</table>\n",
       "<p>352 rows × 5 columns</p>\n",
       "</div>"
      ],
      "text/plain": [
       "     financial_year state broad_source_of_funding  \\\n",
       "0           1997-98   NSW              Government   \n",
       "1           1997-98   NSW              Government   \n",
       "2           1997-98   NSW          Non-government   \n",
       "53          1997-98   VIC              Government   \n",
       "54          1997-98   VIC              Government   \n",
       "...             ...   ...                     ...   \n",
       "6661        2011-12   ACT              Government   \n",
       "6662        2011-12   ACT          Non-government   \n",
       "6718        2011-12    NT              Government   \n",
       "6719        2011-12    NT              Government   \n",
       "6720        2011-12    NT          Non-government   \n",
       "\n",
       "          detailed_source_of_funding  real_expenditure_millions  \n",
       "0              Australian Government                      315.0  \n",
       "1                    State and local                      120.0  \n",
       "2     Private health insurance funds                      314.0  \n",
       "53             Australian Government                      203.0  \n",
       "54                   State and local                       33.0  \n",
       "...                              ...                        ...  \n",
       "6661                 State and local                        1.0  \n",
       "6662  Private health insurance funds                       15.0  \n",
       "6718           Australian Government                        7.0  \n",
       "6719                 State and local                        0.0  \n",
       "6720  Private health insurance funds                        5.0  \n",
       "\n",
       "[352 rows x 5 columns]"
      ]
     },
     "execution_count": 19,
     "metadata": {},
     "output_type": "execute_result"
    }
   ],
   "source": [
    "expenditure_data_Administration = expenditure_data[expenditure_data['area_of_expenditure'] == 'Administration']\n",
    "expenditure_data_Administration = expenditure_data_Administration.drop('area_of_expenditure', axis = 1)\n",
    "expenditure_data_Administration"
   ]
  },
  {
   "cell_type": "code",
   "execution_count": 8,
   "id": "4ea1b853",
   "metadata": {},
   "outputs": [
    {
     "data": {
      "text/html": [
       "<div>\n",
       "<style scoped>\n",
       "    .dataframe tbody tr th:only-of-type {\n",
       "        vertical-align: middle;\n",
       "    }\n",
       "\n",
       "    .dataframe tbody tr th {\n",
       "        vertical-align: top;\n",
       "    }\n",
       "\n",
       "    .dataframe thead th {\n",
       "        text-align: right;\n",
       "    }\n",
       "</style>\n",
       "<table border=\"1\" class=\"dataframe\">\n",
       "  <thead>\n",
       "    <tr style=\"text-align: right;\">\n",
       "      <th></th>\n",
       "      <th>financial_year</th>\n",
       "      <th>state</th>\n",
       "      <th>area_of_expenditure</th>\n",
       "      <th>detailed_source_of_funding</th>\n",
       "      <th>real_expenditure_millions</th>\n",
       "    </tr>\n",
       "  </thead>\n",
       "  <tbody>\n",
       "    <tr>\n",
       "      <th>0</th>\n",
       "      <td>1997-98</td>\n",
       "      <td>NSW</td>\n",
       "      <td>Administration</td>\n",
       "      <td>Australian Government</td>\n",
       "      <td>315.0</td>\n",
       "    </tr>\n",
       "    <tr>\n",
       "      <th>1</th>\n",
       "      <td>1997-98</td>\n",
       "      <td>NSW</td>\n",
       "      <td>Administration</td>\n",
       "      <td>State and local</td>\n",
       "      <td>120.0</td>\n",
       "    </tr>\n",
       "    <tr>\n",
       "      <th>2</th>\n",
       "      <td>1997-98</td>\n",
       "      <td>NSW</td>\n",
       "      <td>Administration</td>\n",
       "      <td>Private health insurance funds</td>\n",
       "      <td>314.0</td>\n",
       "    </tr>\n",
       "    <tr>\n",
       "      <th>3</th>\n",
       "      <td>1997-98</td>\n",
       "      <td>NSW</td>\n",
       "      <td>Aids and appliances</td>\n",
       "      <td>Australian Government</td>\n",
       "      <td>65.0</td>\n",
       "    </tr>\n",
       "    <tr>\n",
       "      <th>4</th>\n",
       "      <td>1997-98</td>\n",
       "      <td>NSW</td>\n",
       "      <td>Aids and appliances</td>\n",
       "      <td>Individuals</td>\n",
       "      <td>168.0</td>\n",
       "    </tr>\n",
       "    <tr>\n",
       "      <th>...</th>\n",
       "      <td>...</td>\n",
       "      <td>...</td>\n",
       "      <td>...</td>\n",
       "      <td>...</td>\n",
       "      <td>...</td>\n",
       "    </tr>\n",
       "    <tr>\n",
       "      <th>7095</th>\n",
       "      <td>NaN</td>\n",
       "      <td>NaN</td>\n",
       "      <td>NaN</td>\n",
       "      <td>NaN</td>\n",
       "      <td>NaN</td>\n",
       "    </tr>\n",
       "    <tr>\n",
       "      <th>7096</th>\n",
       "      <td>NaN</td>\n",
       "      <td>NaN</td>\n",
       "      <td>NaN</td>\n",
       "      <td>NaN</td>\n",
       "      <td>NaN</td>\n",
       "    </tr>\n",
       "    <tr>\n",
       "      <th>7097</th>\n",
       "      <td>NaN</td>\n",
       "      <td>NaN</td>\n",
       "      <td>NaN</td>\n",
       "      <td>NaN</td>\n",
       "      <td>NaN</td>\n",
       "    </tr>\n",
       "    <tr>\n",
       "      <th>7098</th>\n",
       "      <td>NaN</td>\n",
       "      <td>NaN</td>\n",
       "      <td>NaN</td>\n",
       "      <td>NaN</td>\n",
       "      <td>NaN</td>\n",
       "    </tr>\n",
       "    <tr>\n",
       "      <th>7099</th>\n",
       "      <td>NaN</td>\n",
       "      <td>NaN</td>\n",
       "      <td>NaN</td>\n",
       "      <td>NaN</td>\n",
       "      <td>NaN</td>\n",
       "    </tr>\n",
       "  </tbody>\n",
       "</table>\n",
       "<p>7100 rows × 5 columns</p>\n",
       "</div>"
      ],
      "text/plain": [
       "     financial_year state  area_of_expenditure  \\\n",
       "0           1997-98   NSW       Administration   \n",
       "1           1997-98   NSW       Administration   \n",
       "2           1997-98   NSW       Administration   \n",
       "3           1997-98   NSW  Aids and appliances   \n",
       "4           1997-98   NSW  Aids and appliances   \n",
       "...             ...   ...                  ...   \n",
       "7095            NaN   NaN                  NaN   \n",
       "7096            NaN   NaN                  NaN   \n",
       "7097            NaN   NaN                  NaN   \n",
       "7098            NaN   NaN                  NaN   \n",
       "7099            NaN   NaN                  NaN   \n",
       "\n",
       "          detailed_source_of_funding  real_expenditure_millions  \n",
       "0              Australian Government                      315.0  \n",
       "1                    State and local                      120.0  \n",
       "2     Private health insurance funds                      314.0  \n",
       "3              Australian Government                       65.0  \n",
       "4                        Individuals                      168.0  \n",
       "...                              ...                        ...  \n",
       "7095                             NaN                        NaN  \n",
       "7096                             NaN                        NaN  \n",
       "7097                             NaN                        NaN  \n",
       "7098                             NaN                        NaN  \n",
       "7099                             NaN                        NaN  \n",
       "\n",
       "[7100 rows x 5 columns]"
      ]
     },
     "execution_count": 8,
     "metadata": {},
     "output_type": "execute_result"
    }
   ],
   "source": [
    "expenditure_data = expenditure_data.drop('broad_source_of_funding', axis = 1)\n",
    "expenditure_data"
   ]
  },
  {
   "cell_type": "code",
   "execution_count": 9,
   "id": "61016e4a",
   "metadata": {},
   "outputs": [
    {
     "data": {
      "text/plain": [
       "financial_year                322\n",
       "state                         322\n",
       "area_of_expenditure           322\n",
       "detailed_source_of_funding    322\n",
       "real_expenditure_millions     322\n",
       "dtype: int64"
      ]
     },
     "execution_count": 9,
     "metadata": {},
     "output_type": "execute_result"
    }
   ],
   "source": [
    "expenditure_data.isna().sum()"
   ]
  },
  {
   "cell_type": "code",
   "execution_count": 13,
   "id": "0739e09f",
   "metadata": {},
   "outputs": [
    {
     "data": {
      "text/html": [
       "<div>\n",
       "<style scoped>\n",
       "    .dataframe tbody tr th:only-of-type {\n",
       "        vertical-align: middle;\n",
       "    }\n",
       "\n",
       "    .dataframe tbody tr th {\n",
       "        vertical-align: top;\n",
       "    }\n",
       "\n",
       "    .dataframe thead th {\n",
       "        text-align: right;\n",
       "    }\n",
       "</style>\n",
       "<table border=\"1\" class=\"dataframe\">\n",
       "  <thead>\n",
       "    <tr style=\"text-align: right;\">\n",
       "      <th></th>\n",
       "      <th>financial_year</th>\n",
       "      <th>state</th>\n",
       "      <th>area_of_expenditure</th>\n",
       "      <th>detailed_source_of_funding</th>\n",
       "      <th>real_expenditure_millions</th>\n",
       "    </tr>\n",
       "  </thead>\n",
       "  <tbody>\n",
       "    <tr>\n",
       "      <th>0</th>\n",
       "      <td>1997-98</td>\n",
       "      <td>NSW</td>\n",
       "      <td>Administration</td>\n",
       "      <td>Australian Government</td>\n",
       "      <td>315.0</td>\n",
       "    </tr>\n",
       "    <tr>\n",
       "      <th>1</th>\n",
       "      <td>1997-98</td>\n",
       "      <td>NSW</td>\n",
       "      <td>Administration</td>\n",
       "      <td>State and local</td>\n",
       "      <td>120.0</td>\n",
       "    </tr>\n",
       "    <tr>\n",
       "      <th>2</th>\n",
       "      <td>1997-98</td>\n",
       "      <td>NSW</td>\n",
       "      <td>Administration</td>\n",
       "      <td>Private health insurance funds</td>\n",
       "      <td>314.0</td>\n",
       "    </tr>\n",
       "    <tr>\n",
       "      <th>3</th>\n",
       "      <td>1997-98</td>\n",
       "      <td>NSW</td>\n",
       "      <td>Aids and appliances</td>\n",
       "      <td>Australian Government</td>\n",
       "      <td>65.0</td>\n",
       "    </tr>\n",
       "    <tr>\n",
       "      <th>4</th>\n",
       "      <td>1997-98</td>\n",
       "      <td>NSW</td>\n",
       "      <td>Aids and appliances</td>\n",
       "      <td>Individuals</td>\n",
       "      <td>168.0</td>\n",
       "    </tr>\n",
       "    <tr>\n",
       "      <th>...</th>\n",
       "      <td>...</td>\n",
       "      <td>...</td>\n",
       "      <td>...</td>\n",
       "      <td>...</td>\n",
       "      <td>...</td>\n",
       "    </tr>\n",
       "    <tr>\n",
       "      <th>6773</th>\n",
       "      <td>2011-12</td>\n",
       "      <td>NT</td>\n",
       "      <td>Public hospitals</td>\n",
       "      <td>Private health insurance funds</td>\n",
       "      <td>1.0</td>\n",
       "    </tr>\n",
       "    <tr>\n",
       "      <th>6774</th>\n",
       "      <td>2011-12</td>\n",
       "      <td>NT</td>\n",
       "      <td>Research</td>\n",
       "      <td>Australian Government</td>\n",
       "      <td>81.0</td>\n",
       "    </tr>\n",
       "    <tr>\n",
       "      <th>6775</th>\n",
       "      <td>2011-12</td>\n",
       "      <td>NT</td>\n",
       "      <td>Research</td>\n",
       "      <td>State and local</td>\n",
       "      <td>35.0</td>\n",
       "    </tr>\n",
       "    <tr>\n",
       "      <th>6776</th>\n",
       "      <td>2011-12</td>\n",
       "      <td>NT</td>\n",
       "      <td>Research</td>\n",
       "      <td>Individuals</td>\n",
       "      <td>0.0</td>\n",
       "    </tr>\n",
       "    <tr>\n",
       "      <th>6777</th>\n",
       "      <td>2011-12</td>\n",
       "      <td>NT</td>\n",
       "      <td>Research</td>\n",
       "      <td>Other non-government</td>\n",
       "      <td>1.0</td>\n",
       "    </tr>\n",
       "  </tbody>\n",
       "</table>\n",
       "<p>6778 rows × 5 columns</p>\n",
       "</div>"
      ],
      "text/plain": [
       "     financial_year state  area_of_expenditure  \\\n",
       "0           1997-98   NSW       Administration   \n",
       "1           1997-98   NSW       Administration   \n",
       "2           1997-98   NSW       Administration   \n",
       "3           1997-98   NSW  Aids and appliances   \n",
       "4           1997-98   NSW  Aids and appliances   \n",
       "...             ...   ...                  ...   \n",
       "6773        2011-12    NT     Public hospitals   \n",
       "6774        2011-12    NT             Research   \n",
       "6775        2011-12    NT             Research   \n",
       "6776        2011-12    NT             Research   \n",
       "6777        2011-12    NT             Research   \n",
       "\n",
       "          detailed_source_of_funding  real_expenditure_millions  \n",
       "0              Australian Government                      315.0  \n",
       "1                    State and local                      120.0  \n",
       "2     Private health insurance funds                      314.0  \n",
       "3              Australian Government                       65.0  \n",
       "4                        Individuals                      168.0  \n",
       "...                              ...                        ...  \n",
       "6773  Private health insurance funds                        1.0  \n",
       "6774           Australian Government                       81.0  \n",
       "6775                 State and local                       35.0  \n",
       "6776                     Individuals                        0.0  \n",
       "6777            Other non-government                        1.0  \n",
       "\n",
       "[6778 rows x 5 columns]"
      ]
     },
     "execution_count": 13,
     "metadata": {},
     "output_type": "execute_result"
    }
   ],
   "source": [
    "expenditure_data = expenditure_data.dropna()\n",
    "expenditure_data"
   ]
  },
  {
   "cell_type": "code",
   "execution_count": 14,
   "id": "157f0789",
   "metadata": {},
   "outputs": [
    {
     "data": {
      "text/html": [
       "<div>\n",
       "<style scoped>\n",
       "    .dataframe tbody tr th:only-of-type {\n",
       "        vertical-align: middle;\n",
       "    }\n",
       "\n",
       "    .dataframe tbody tr th {\n",
       "        vertical-align: top;\n",
       "    }\n",
       "\n",
       "    .dataframe thead th {\n",
       "        text-align: right;\n",
       "    }\n",
       "</style>\n",
       "<table border=\"1\" class=\"dataframe\">\n",
       "  <thead>\n",
       "    <tr style=\"text-align: right;\">\n",
       "      <th></th>\n",
       "      <th>real_expenditure_millions</th>\n",
       "    </tr>\n",
       "  </thead>\n",
       "  <tbody>\n",
       "    <tr>\n",
       "      <th>count</th>\n",
       "      <td>6778.000000</td>\n",
       "    </tr>\n",
       "    <tr>\n",
       "      <th>mean</th>\n",
       "      <td>218.093538</td>\n",
       "    </tr>\n",
       "    <tr>\n",
       "      <th>std</th>\n",
       "      <td>587.840629</td>\n",
       "    </tr>\n",
       "    <tr>\n",
       "      <th>min</th>\n",
       "      <td>-216.000000</td>\n",
       "    </tr>\n",
       "    <tr>\n",
       "      <th>25%</th>\n",
       "      <td>7.000000</td>\n",
       "    </tr>\n",
       "    <tr>\n",
       "      <th>50%</th>\n",
       "      <td>38.000000</td>\n",
       "    </tr>\n",
       "    <tr>\n",
       "      <th>75%</th>\n",
       "      <td>158.000000</td>\n",
       "    </tr>\n",
       "    <tr>\n",
       "      <th>max</th>\n",
       "      <td>6838.000000</td>\n",
       "    </tr>\n",
       "  </tbody>\n",
       "</table>\n",
       "</div>"
      ],
      "text/plain": [
       "       real_expenditure_millions\n",
       "count                6778.000000\n",
       "mean                  218.093538\n",
       "std                   587.840629\n",
       "min                  -216.000000\n",
       "25%                     7.000000\n",
       "50%                    38.000000\n",
       "75%                   158.000000\n",
       "max                  6838.000000"
      ]
     },
     "execution_count": 14,
     "metadata": {},
     "output_type": "execute_result"
    }
   ],
   "source": [
    "expenditure_data.describe()"
   ]
  },
  {
   "cell_type": "code",
   "execution_count": 32,
   "id": "889170cd",
   "metadata": {},
   "outputs": [
    {
     "data": {
      "image/png": "[encoded data removed]",
      "text/plain": [
       "<Figure size 432x288 with 1 Axes>"
      ]
     },
     "metadata": {
      "needs_background": "light"
     },
     "output_type": "display_data"
    }
   ],
   "source": [
    "expenditure = expenditure_data['real_expenditure_millions']\n",
    "plt.hist(expenditure, edgecolor = 'black')\n",
    "plt.grid(axis = 'y')\n",
    "plt.xlabel('Real expenditure in millions')\n",
    "plt.show()"
   ]
  },
  {
   "cell_type": "code",
   "execution_count": 35,
   "id": "3084ff34",
   "metadata": {},
   "outputs": [
    {
     "data": {
      "image/png": "[encoded data removed]",
      "text/plain": [
       "<Figure size 432x288 with 1 Axes>"
      ]
     },
     "metadata": {
      "needs_background": "light"
     },
     "output_type": "display_data"
    }
   ],
   "source": [
    "plt.boxplot(expenditure)\n",
    "plt.show()"
   ]
  },
  {
   "cell_type": "code",
   "execution_count": 16,
   "id": "2a859ff3",
   "metadata": {},
   "outputs": [
    {
     "data": {
      "text/plain": [
       "0                Australian Government\n",
       "1                      State and local\n",
       "2       Private health insurance funds\n",
       "3                Australian Government\n",
       "4                          Individuals\n",
       "                     ...              \n",
       "6364    Private health insurance funds\n",
       "6365             Australian Government\n",
       "6366                   State and local\n",
       "6367                       Individuals\n",
       "6368              Other non-government\n",
       "Name: detailed_source_of_funding, Length: 843, dtype: object"
      ]
     },
     "execution_count": 16,
     "metadata": {},
     "output_type": "execute_result"
    }
   ],
   "source": [
    "x = expenditure_data_NSW['detailed_source_of_funding']\n",
    "x"
   ]
  },
  {
   "cell_type": "code",
   "execution_count": 28,
   "id": "3ae03ee2",
   "metadata": {},
   "outputs": [
    {
     "data": {
      "text/html": [
       "<div>\n",
       "<style scoped>\n",
       "    .dataframe tbody tr th:only-of-type {\n",
       "        vertical-align: middle;\n",
       "    }\n",
       "\n",
       "    .dataframe tbody tr th {\n",
       "        vertical-align: top;\n",
       "    }\n",
       "\n",
       "    .dataframe thead th {\n",
       "        text-align: right;\n",
       "    }\n",
       "</style>\n",
       "<table border=\"1\" class=\"dataframe\">\n",
       "  <thead>\n",
       "    <tr style=\"text-align: right;\">\n",
       "      <th></th>\n",
       "      <th>financial_year</th>\n",
       "      <th>state</th>\n",
       "      <th>area_of_expenditure</th>\n",
       "      <th>detailed_source_of_funding</th>\n",
       "      <th>real_expenditure_millions</th>\n",
       "    </tr>\n",
       "  </thead>\n",
       "  <tbody>\n",
       "    <tr>\n",
       "      <th>0</th>\n",
       "      <td>1997-98</td>\n",
       "      <td>NSW</td>\n",
       "      <td>Administration</td>\n",
       "      <td>Australian Government</td>\n",
       "      <td>315.0</td>\n",
       "    </tr>\n",
       "    <tr>\n",
       "      <th>1</th>\n",
       "      <td>1997-98</td>\n",
       "      <td>NSW</td>\n",
       "      <td>Administration</td>\n",
       "      <td>State and local</td>\n",
       "      <td>120.0</td>\n",
       "    </tr>\n",
       "    <tr>\n",
       "      <th>2</th>\n",
       "      <td>1997-98</td>\n",
       "      <td>NSW</td>\n",
       "      <td>Administration</td>\n",
       "      <td>Private health insurance funds</td>\n",
       "      <td>314.0</td>\n",
       "    </tr>\n",
       "    <tr>\n",
       "      <th>3</th>\n",
       "      <td>1997-98</td>\n",
       "      <td>NSW</td>\n",
       "      <td>Aids and appliances</td>\n",
       "      <td>Australian Government</td>\n",
       "      <td>65.0</td>\n",
       "    </tr>\n",
       "    <tr>\n",
       "      <th>4</th>\n",
       "      <td>1997-98</td>\n",
       "      <td>NSW</td>\n",
       "      <td>Aids and appliances</td>\n",
       "      <td>Individuals</td>\n",
       "      <td>168.0</td>\n",
       "    </tr>\n",
       "    <tr>\n",
       "      <th>...</th>\n",
       "      <td>...</td>\n",
       "      <td>...</td>\n",
       "      <td>...</td>\n",
       "      <td>...</td>\n",
       "      <td>...</td>\n",
       "    </tr>\n",
       "    <tr>\n",
       "      <th>6773</th>\n",
       "      <td>2011-12</td>\n",
       "      <td>NT</td>\n",
       "      <td>Public hospitals</td>\n",
       "      <td>Private health insurance funds</td>\n",
       "      <td>1.0</td>\n",
       "    </tr>\n",
       "    <tr>\n",
       "      <th>6774</th>\n",
       "      <td>2011-12</td>\n",
       "      <td>NT</td>\n",
       "      <td>Research</td>\n",
       "      <td>Australian Government</td>\n",
       "      <td>81.0</td>\n",
       "    </tr>\n",
       "    <tr>\n",
       "      <th>6775</th>\n",
       "      <td>2011-12</td>\n",
       "      <td>NT</td>\n",
       "      <td>Research</td>\n",
       "      <td>State and local</td>\n",
       "      <td>35.0</td>\n",
       "    </tr>\n",
       "    <tr>\n",
       "      <th>6776</th>\n",
       "      <td>2011-12</td>\n",
       "      <td>NT</td>\n",
       "      <td>Research</td>\n",
       "      <td>Individuals</td>\n",
       "      <td>0.0</td>\n",
       "    </tr>\n",
       "    <tr>\n",
       "      <th>6777</th>\n",
       "      <td>2011-12</td>\n",
       "      <td>NT</td>\n",
       "      <td>Research</td>\n",
       "      <td>Other non-government</td>\n",
       "      <td>1.0</td>\n",
       "    </tr>\n",
       "  </tbody>\n",
       "</table>\n",
       "<p>6085 rows × 5 columns</p>\n",
       "</div>"
      ],
      "text/plain": [
       "     financial_year state  area_of_expenditure  \\\n",
       "0           1997-98   NSW       Administration   \n",
       "1           1997-98   NSW       Administration   \n",
       "2           1997-98   NSW       Administration   \n",
       "3           1997-98   NSW  Aids and appliances   \n",
       "4           1997-98   NSW  Aids and appliances   \n",
       "...             ...   ...                  ...   \n",
       "6773        2011-12    NT     Public hospitals   \n",
       "6774        2011-12    NT             Research   \n",
       "6775        2011-12    NT             Research   \n",
       "6776        2011-12    NT             Research   \n",
       "6777        2011-12    NT             Research   \n",
       "\n",
       "          detailed_source_of_funding  real_expenditure_millions  \n",
       "0              Australian Government                      315.0  \n",
       "1                    State and local                      120.0  \n",
       "2     Private health insurance funds                      314.0  \n",
       "3              Australian Government                       65.0  \n",
       "4                        Individuals                      168.0  \n",
       "...                              ...                        ...  \n",
       "6773  Private health insurance funds                        1.0  \n",
       "6774           Australian Government                       81.0  \n",
       "6775                 State and local                       35.0  \n",
       "6776                     Individuals                        0.0  \n",
       "6777            Other non-government                        1.0  \n",
       "\n",
       "[6085 rows x 5 columns]"
      ]
     },
     "execution_count": 28,
     "metadata": {},
     "output_type": "execute_result"
    }
   ],
   "source": [
    "expenditure_data[expenditure_data['real_expenditure_millions'] <= 500]"
   ]
  },
  {
   "cell_type": "code",
   "execution_count": null,
   "id": "de6a174f",
   "metadata": {},
   "outputs": [],
   "source": []
  }
 ],
 "metadata": {
  "kernelspec": {
   "display_name": "Python 3",
   "language": "python",
   "name": "python3"
  },
  "language_info": {
   "codemirror_mode": {
    "name": "ipython",
    "version": 3
   },
   "file_extension": ".py",
   "mimetype": "text/x-python",
   "name": "python",
   "nbconvert_exporter": "python",
   "pygments_lexer": "ipython3",
   "version": "3.8.8"
  }
 },
 "nbformat": 4,
 "nbformat_minor": 5
}
